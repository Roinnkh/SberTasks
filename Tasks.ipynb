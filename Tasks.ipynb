{
 "cells": [
  {
   "cell_type": "markdown",
   "source": [
    "-- Python\n",
    "-- 5 Задание. дана ведомость в которой два столбца - отдел и сотрудник.\n",
    "-- необходимо подсчитать количество уникальных сотрудников в каждом отделе. результат отразить в поле Сnt\n",
    "df: A, B\n",
    "Отдел Сотрудник     Сnt\n",
    "1     1             3\n",
    "1     2             3\n",
    "2     3             1\n",
    "3     6             1\n",
    "1     7             3\n",
    "3     6             1"
   ],
   "metadata": {
    "collapsed": false
   },
   "id": "5d3a7e5dc06effd8"
  },
  {
   "cell_type": "code",
   "outputs": [],
   "source": [
    "import pandas as pd\n",
    "import numpy as np\n"
   ],
   "metadata": {
    "collapsed": false,
    "ExecuteTime": {
     "end_time": "2024-03-24T15:21:32.939212Z",
     "start_time": "2024-03-24T15:21:32.933596Z"
    }
   },
   "id": "caf80ab2eba26f2b",
   "execution_count": 10
  },
  {
   "cell_type": "code",
   "outputs": [
    {
     "data": {
      "text/plain": "   Отдел  Сотрудник  Cnt\n0      1          1    3\n1      1          2    3\n2      2          3    1\n3      3          6    1\n4      1          7    3\n5      3          6    1",
      "text/html": "<div>\n<style scoped>\n    .dataframe tbody tr th:only-of-type {\n        vertical-align: middle;\n    }\n\n    .dataframe tbody tr th {\n        vertical-align: top;\n    }\n\n    .dataframe thead th {\n        text-align: right;\n    }\n</style>\n<table border=\"1\" class=\"dataframe\">\n  <thead>\n    <tr style=\"text-align: right;\">\n      <th></th>\n      <th>Отдел</th>\n      <th>Сотрудник</th>\n      <th>Cnt</th>\n    </tr>\n  </thead>\n  <tbody>\n    <tr>\n      <th>0</th>\n      <td>1</td>\n      <td>1</td>\n      <td>3</td>\n    </tr>\n    <tr>\n      <th>1</th>\n      <td>1</td>\n      <td>2</td>\n      <td>3</td>\n    </tr>\n    <tr>\n      <th>2</th>\n      <td>2</td>\n      <td>3</td>\n      <td>1</td>\n    </tr>\n    <tr>\n      <th>3</th>\n      <td>3</td>\n      <td>6</td>\n      <td>1</td>\n    </tr>\n    <tr>\n      <th>4</th>\n      <td>1</td>\n      <td>7</td>\n      <td>3</td>\n    </tr>\n    <tr>\n      <th>5</th>\n      <td>3</td>\n      <td>6</td>\n      <td>1</td>\n    </tr>\n  </tbody>\n</table>\n</div>"
     },
     "execution_count": 14,
     "metadata": {},
     "output_type": "execute_result"
    }
   ],
   "source": [
    "df = pd.DataFrame({'Отдел': [1, 1, 2, 3, 1, 3], 'Сотрудник': [1, 2, 3, 6, 7, 6]})\n",
    "unique_counts = df.groupby('Отдел')['Сотрудник'].nunique().reset_index(name='Cnt')\n",
    "df = df.merge(unique_counts, how='left')\n",
    "df"
   ],
   "metadata": {
    "collapsed": false,
    "ExecuteTime": {
     "end_time": "2024-03-24T15:22:35.164840Z",
     "start_time": "2024-03-24T15:22:35.152769Z"
    }
   },
   "id": "bbcd64bf6db0c550",
   "execution_count": 14
  },
  {
   "cell_type": "markdown",
   "source": [
    "-- 6 Задание. Python\n",
    "-- дан df содержащий количество авторизаций сотрудников по неделям. \n",
    "-- необходимо посчитать количество авторизаций по каждому сотруднику за каждую неделю и суммарное количество с начала периода.\n",
    "-- результат отразить в полях cnt и sum\n",
    "df = pd.DataFrame({'w':[1,1,2,2,2,3,3,3,4,4,4], \n",
    "                   'user':['User2', 'User3','User1','User1','User2','User2','User2','User3','User1','User1','User3'],\n",
    "                   'c':[7,2,3,1,2,5,4,6,9,8,7]})"
   ],
   "metadata": {
    "collapsed": false
   },
   "id": "69df455ac22ae4f1"
  },
  {
   "cell_type": "code",
   "outputs": [
    {
     "data": {
      "text/plain": "   w   user   c  sum\n0  1  User2   7    7\n1  1  User3   2    2\n2  2  User1   4    4\n3  2  User2   2    9\n4  3  User2   9   18\n5  3  User3   6    8\n6  4  User1  17   21\n7  4  User3   7   15",
      "text/html": "<div>\n<style scoped>\n    .dataframe tbody tr th:only-of-type {\n        vertical-align: middle;\n    }\n\n    .dataframe tbody tr th {\n        vertical-align: top;\n    }\n\n    .dataframe thead th {\n        text-align: right;\n    }\n</style>\n<table border=\"1\" class=\"dataframe\">\n  <thead>\n    <tr style=\"text-align: right;\">\n      <th></th>\n      <th>w</th>\n      <th>user</th>\n      <th>c</th>\n      <th>sum</th>\n    </tr>\n  </thead>\n  <tbody>\n    <tr>\n      <th>0</th>\n      <td>1</td>\n      <td>User2</td>\n      <td>7</td>\n      <td>7</td>\n    </tr>\n    <tr>\n      <th>1</th>\n      <td>1</td>\n      <td>User3</td>\n      <td>2</td>\n      <td>2</td>\n    </tr>\n    <tr>\n      <th>2</th>\n      <td>2</td>\n      <td>User1</td>\n      <td>4</td>\n      <td>4</td>\n    </tr>\n    <tr>\n      <th>3</th>\n      <td>2</td>\n      <td>User2</td>\n      <td>2</td>\n      <td>9</td>\n    </tr>\n    <tr>\n      <th>4</th>\n      <td>3</td>\n      <td>User2</td>\n      <td>9</td>\n      <td>18</td>\n    </tr>\n    <tr>\n      <th>5</th>\n      <td>3</td>\n      <td>User3</td>\n      <td>6</td>\n      <td>8</td>\n    </tr>\n    <tr>\n      <th>6</th>\n      <td>4</td>\n      <td>User1</td>\n      <td>17</td>\n      <td>21</td>\n    </tr>\n    <tr>\n      <th>7</th>\n      <td>4</td>\n      <td>User3</td>\n      <td>7</td>\n      <td>15</td>\n    </tr>\n  </tbody>\n</table>\n</div>"
     },
     "execution_count": 12,
     "metadata": {},
     "output_type": "execute_result"
    }
   ],
   "source": [
    "df = pd.DataFrame({'w': [1, 1, 2, 2, 2, 3, 3, 3, 4, 4, 4],\n",
    "                   'user': ['User2', 'User3', 'User1', 'User1', 'User2', 'User2', 'User2', 'User3', 'User1', 'User1',\n",
    "                            'User3'],\n",
    "                   'c': [7, 2, 3, 1, 2, 5, 4, 6, 9, 8, 7]})\n",
    "\n",
    "df = df.groupby(['w', 'user'])['c'].sum()\n",
    "df = df.reset_index()\n",
    "\n",
    "df['sum'] = df.groupby('user')['c'].cumsum()\n",
    "df"
   ],
   "metadata": {
    "collapsed": false,
    "ExecuteTime": {
     "end_time": "2024-03-24T15:21:33.119122Z",
     "start_time": "2024-03-24T15:21:33.041250Z"
    }
   },
   "id": "a046a298851144e7",
   "execution_count": 12
  }
 ],
 "metadata": {
  "kernelspec": {
   "display_name": "Python 3",
   "language": "python",
   "name": "python3"
  },
  "language_info": {
   "codemirror_mode": {
    "name": "ipython",
    "version": 2
   },
   "file_extension": ".py",
   "mimetype": "text/x-python",
   "name": "python",
   "nbconvert_exporter": "python",
   "pygments_lexer": "ipython2",
   "version": "2.7.6"
  }
 },
 "nbformat": 4,
 "nbformat_minor": 5
}
